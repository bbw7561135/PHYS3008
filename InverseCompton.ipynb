{
 "cells": [
  {
   "cell_type": "markdown",
   "metadata": {},
   "source": [
    "# Inverse Compton Emission"
   ]
  },
  {
   "cell_type": "markdown",
   "metadata": {},
   "source": [
    "## Pre-Requisites\n",
    "As usual, we start with importing the necessary modules."
   ]
  },
  {
   "cell_type": "code",
   "execution_count": null,
   "metadata": {},
   "outputs": [],
   "source": [
    "from astropy import units as u\n",
    "from astropy import constants as c\n",
    "\n",
    "from astropy.modeling.powerlaws import PowerLaw1D\n",
    "\n",
    "import numpy as np\n",
    "\n",
    "import matplotlib.pyplot as plt\n",
    "\n",
    "from math import pi\n",
    "from numpy import sqrt, cos, sin, tan, abs"
   ]
  },
  {
   "cell_type": "markdown",
   "metadata": {},
   "source": [
    "## IC frequency\n",
    "The frequency $\\nu_s$ of the scattered photon can be calculated with the equation on slide 69 of the lecture:\n",
    "$$\n",
    "h \\nu_s = \\frac{4}{3} \\left( \\frac{U}{m c^2} \\right)^2 h \\nu\n",
    "$$\n",
    "where $U$ is the energy of the electron and $\\nu$ is the frequency of the incoming photon. We will deal only with electrons, so the mass can be set to the electron mass. \n",
    "### Exercise\n",
    "Write a function to calculate the IC_frequency.\n",
    "Make sure that you are in the Thomson limit, your function should return an error (or at least make a print statement) if this is not the case. "
   ]
  },
  {
   "cell_type": "code",
   "execution_count": null,
   "metadata": {},
   "outputs": [],
   "source": [
    "def IC_frequency(U, nu) :\n",
    "    \n",
    "    # your code here\n",
    "    u_s = 0*u.Hz\n",
    "    \n",
    "    return u_s.to(u.Hz)"
   ]
  },
  {
   "cell_type": "markdown",
   "metadata": {},
   "source": [
    "Let's test it with the lecture example. The energy of the electron is"
   ]
  },
  {
   "cell_type": "code",
   "execution_count": null,
   "metadata": {},
   "outputs": [],
   "source": [
    "U = 19 * u.TeV"
   ]
  },
  {
   "cell_type": "markdown",
   "metadata": {},
   "source": [
    "The scattering is off the Cosmic Microwave Background (CMB) which has a temperature of"
   ]
  },
  {
   "cell_type": "code",
   "execution_count": null,
   "metadata": {},
   "outputs": [],
   "source": [
    "T_CMB = 2.7 * u.K"
   ]
  },
  {
   "cell_type": "markdown",
   "metadata": {},
   "source": [
    "We will take the photon frequency of the peak of the black-body spectrum. We should use Wien's displacement law in its frequency-dependent form. But we are a bit sloppy and take the peak in wavelength\n",
    "$$\n",
    "\\lambda_\\mathsf{peak} = \\frac{b}{T}\n",
    "$$\n",
    "and convert it to frequency:\n",
    "$$\n",
    "\\nu_\\mathsf{CMB} = \\frac{c}{\\lambda_\\mathsf{peak}}\n",
    "$$"
   ]
  },
  {
   "cell_type": "code",
   "execution_count": null,
   "metadata": {},
   "outputs": [],
   "source": [
    "nu_CMB = c.c * T_CMB / c.b_wien"
   ]
  },
  {
   "cell_type": "code",
   "execution_count": null,
   "metadata": {},
   "outputs": [],
   "source": [
    "nu_CMB.to(u.Hz)"
   ]
  },
  {
   "cell_type": "code",
   "execution_count": null,
   "metadata": {},
   "outputs": [],
   "source": [
    "IC_frequency(U, nu_CMB)"
   ]
  },
  {
   "cell_type": "markdown",
   "metadata": {},
   "source": [
    "## Energy Loss\n",
    "The energy loss of the electron due to inverse Compton scattering is given by the equation on slide 75 of the lecture:\n",
    "$$\n",
    "\\frac{dE}{dt} = \\frac{4}{3} \\sigma_T c \\beta^2 \\left( \\frac{U}{mc^2} \\right)^2 u_\\mathsf{rad}\n",
    "$$\n",
    "where $U$ is the energy of th electron and $u_\\mathsf{rad}$ is the energy density of the radiation field."
   ]
  },
  {
   "cell_type": "markdown",
   "metadata": {},
   "source": [
    "### Exercise\n",
    "Write a function for the inverse Compton energy loss. We will use the energy density of the CMB of $0.25\\,\\mathsf{eV}/\\mathsf{cm}^3$ as default value."
   ]
  },
  {
   "cell_type": "code",
   "execution_count": null,
   "metadata": {},
   "outputs": [],
   "source": [
    "def IC_EnergyLoss (U, u_rad = 0.25 *u.eV/u.cm**3, beta = 1) :\n",
    "    \n",
    "    # your code here\n",
    "    dEdt = 0 * u.W\n",
    "    \n",
    "    return dEdt.to(u.W)"
   ]
  },
  {
   "cell_type": "markdown",
   "metadata": {},
   "source": [
    "Let's test it with the lecture example."
   ]
  },
  {
   "cell_type": "code",
   "execution_count": null,
   "metadata": {},
   "outputs": [],
   "source": [
    "IC_EnergyLoss(U)"
   ]
  },
  {
   "cell_type": "markdown",
   "metadata": {},
   "source": [
    "## Inverse Compton Cooling Time\n",
    "The inverse Compton cooling time is given by the equation on slide 77 of the lecture:\n",
    "$$\n",
    "\\tau_\\mathsf{IC} = \\frac{3}{4} \\frac{c^3 m^2}{\\sigma_T \\beta^2 u_\\mathsf{rad} U}\n",
    "$$\n",
    "### Exercise\n",
    "Write a function for the cooling time."
   ]
  },
  {
   "cell_type": "code",
   "execution_count": null,
   "metadata": {},
   "outputs": [],
   "source": [
    "def CoolingTime_IC(U, u_rad = 0.25 *u.eV/u.cm**3, beta = 1) :\n",
    "    \n",
    "    # your code here\n",
    "    tau = U.value * 0 * u.s\n",
    "    \n",
    "    return tau.to(u.s)"
   ]
  },
  {
   "cell_type": "markdown",
   "metadata": {},
   "source": [
    "Let's test the function for an array of four electron energies:"
   ]
  },
  {
   "cell_type": "code",
   "execution_count": null,
   "metadata": {},
   "outputs": [],
   "source": [
    "U = [1e-1, 1, 10] * u.TeV"
   ]
  },
  {
   "cell_type": "code",
   "execution_count": null,
   "metadata": {},
   "outputs": [],
   "source": [
    "CoolingTime_IC (U)"
   ]
  },
  {
   "cell_type": "markdown",
   "metadata": {},
   "source": [
    "Make a plot of the cooling time vs. electron energy for electron energies between 1 MeV and 100 TeV."
   ]
  },
  {
   "cell_type": "code",
   "execution_count": null,
   "metadata": {},
   "outputs": [],
   "source": [
    "# your code here"
   ]
  },
  {
   "cell_type": "markdown",
   "metadata": {},
   "source": [
    "## Inverse Compton Spectrum\n",
    "The inverse Compton spectrum (see lecture slide 80) is given by\n",
    "$$\n",
    "\\frac{ dN }{ dt ~ d\\nu } (\\nu)\n",
    "=\n",
    "\\frac{ 3 \\sigma_T c n_\\mathsf{\\nu 0} }{ 16 \\gamma^4 \\nu_0^2 }\n",
    "\t\\left[ \n",
    "\t\t2 \\nu \\ln \\frac{\\nu }{ 4 \\gamma^2 \\nu_0 }\n",
    "    + \\nu\n",
    "\t\t+ 4 \\gamma^2 \\nu_0\n",
    "\t\t- \\frac{ \\nu^2 }  { 2 \\gamma^2 \\nu_0 }\n",
    "\t\\right]\n",
    "$$\n",
    "This returns the number of photons scattered per time $dt$ into the frequency $\\nu$. \\$nu_0$ is the frequency of the incoming photon, $\\gamma$ is the Lorentz factor of the electron."
   ]
  },
  {
   "cell_type": "code",
   "execution_count": null,
   "metadata": {},
   "outputs": [],
   "source": [
    "def ICspectrum(gamma, nu, nu_0 = 3e11*u.Hz, n_nu0 = 1*u.m**-3) :\n",
    "    \n",
    "    const = 3 * c.sigma_T * c.c * n_nu0 / 16/ gamma**4 / nu_0**2\n",
    "    \n",
    "    fac = 2*nu*np.log(nu/4 / gamma**2 / nu_0)\n",
    "    \n",
    "    fac += nu\n",
    "    \n",
    "    fac += 4 * gamma**2 * nu_0\n",
    "    \n",
    "    fac += -1* nu**2 / 2 / gamma**2 / nu_0\n",
    "        \n",
    "    ret = fac*const\n",
    "        \n",
    "    return ret"
   ]
  },
  {
   "cell_type": "markdown",
   "metadata": {},
   "source": [
    "We will need the Lorentz factor $\\gamma$ of the electron. We can use the function from the \"Synchrotron Radiation\" notebook."
   ]
  },
  {
   "cell_type": "code",
   "execution_count": null,
   "metadata": {},
   "outputs": [],
   "source": [
    "def gamma_fromEtot (E, m = c.m_e) :\n",
    "    \n",
    "    gamma = E/(m*c.c**2)\n",
    "    \n",
    "    # gamma is dimensionless, let's decompose before returning\n",
    "    return gamma.decompose()"
   ]
  },
  {
   "cell_type": "code",
   "execution_count": null,
   "metadata": {},
   "outputs": [],
   "source": [
    "frequencies = np.logspace(18, 28, 501) * u.Hz"
   ]
  },
  {
   "cell_type": "code",
   "execution_count": null,
   "metadata": {},
   "outputs": [],
   "source": [
    "ic = ICspectrum(gamma_fromEtot(19*u.TeV), frequencies)"
   ]
  },
  {
   "cell_type": "markdown",
   "metadata": {},
   "source": [
    "In order to get the energy rather than the number of photons we have to multiply with $h \\times \\nu$:"
   ]
  },
  {
   "cell_type": "code",
   "execution_count": null,
   "metadata": {},
   "outputs": [],
   "source": [
    "ic *= (c.h * frequencies)"
   ]
  },
  {
   "cell_type": "code",
   "execution_count": null,
   "metadata": {},
   "outputs": [],
   "source": [
    "plt.loglog(frequencies, ic)\n",
    "\n",
    "#plt.ylim(1e-54)"
   ]
  },
  {
   "cell_type": "markdown",
   "metadata": {},
   "source": [
    "### Exercise\n",
    "Make the plots as on the lecture slides pages 82 and 83. The first plot should show the IC spectra for electrons with energies of 10 GeV, 100 GeV, 1 TeV and 10 TeV. The incoming photon frequency $\\nu_0$ remains the default value of $3 \\times 10^{11}\\,\\mathsf{Hz}$. "
   ]
  },
  {
   "cell_type": "code",
   "execution_count": null,
   "metadata": {},
   "outputs": [],
   "source": [
    "U = [0.01, 0.1, 1, 10] * u.TeV"
   ]
  },
  {
   "cell_type": "code",
   "execution_count": null,
   "metadata": {},
   "outputs": [],
   "source": [
    "# your code here"
   ]
  },
  {
   "cell_type": "markdown",
   "metadata": {},
   "source": [
    "For the second plot the electron energy is fixed to 1 TeV and the incoming photons should have frequencies of $3\\times10^{10}\\,\\mathsf{Hz}$, $3\\times10^{11}\\,\\mathsf{Hz}$, and $3\\times10^{12}\\,\\mathsf{Hz}$."
   ]
  },
  {
   "cell_type": "code",
   "execution_count": null,
   "metadata": {},
   "outputs": [],
   "source": [
    "U = 1 * u.TeV\n",
    "nu_0 = [3e10, 3e11, 3e12]*u.Hz"
   ]
  },
  {
   "cell_type": "code",
   "execution_count": null,
   "metadata": {},
   "outputs": [],
   "source": [
    "#your code here"
   ]
  },
  {
   "cell_type": "markdown",
   "metadata": {},
   "source": [
    "## Playground\n",
    "Play around with the code from above. Put your ideas here. You can submit your playground material as well. I would like to see your work."
   ]
  },
  {
   "cell_type": "code",
   "execution_count": null,
   "metadata": {},
   "outputs": [],
   "source": []
  }
 ],
 "metadata": {
  "kernelspec": {
   "display_name": "Python 3",
   "language": "python",
   "name": "python3"
  },
  "language_info": {
   "codemirror_mode": {
    "name": "ipython",
    "version": 3
   },
   "file_extension": ".py",
   "mimetype": "text/x-python",
   "name": "python",
   "nbconvert_exporter": "python",
   "pygments_lexer": "ipython3",
   "version": "3.7.6"
  }
 },
 "nbformat": 4,
 "nbformat_minor": 4
}
