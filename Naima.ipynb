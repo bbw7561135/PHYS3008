{
 "cells": [
  {
   "cell_type": "markdown",
   "metadata": {},
   "source": [
    "# Non-thermal radiation with naima\n",
    "In this jupyter notebook we will learn how to use the package naima to build non-thermal emission models. In the previous lectures we made many assumptions: mono-energetic electrons and photons and Thomson limit in the case of Inverse Compton emission. The naima modul can be used for any spectra of particles and photons. It also allows to fit the model to observational data.\n",
    "You can read more on naima on this web page:\n",
    "https://naima.readthedocs.io"
   ]
  },
  {
   "cell_type": "markdown",
   "metadata": {},
   "source": [
    "## Pre-requisites\n",
    "As usual, we need to import the modules."
   ]
  },
  {
   "cell_type": "code",
   "execution_count": null,
   "metadata": {},
   "outputs": [],
   "source": [
    "import numpy as np\n",
    "\n",
    "import matplotlib.pyplot as plt\n",
    "\n",
    "from astropy import units as u\n",
    "from astropy import constants as c\n",
    "\n",
    "from numpy import sqrt"
   ]
  },
  {
   "cell_type": "markdown",
   "metadata": {},
   "source": [
    "From naima we will import only the parts that we will make use of."
   ]
  },
  {
   "cell_type": "code",
   "execution_count": null,
   "metadata": {},
   "outputs": [],
   "source": [
    "from naima.models import Synchrotron, InverseCompton, PionDecay\n",
    "from naima.models import PowerLaw, ExponentialCutoffPowerLaw"
   ]
  },
  {
   "cell_type": "markdown",
   "metadata": {},
   "source": [
    "We will look at the total energy ouput of a hypothetical source. We will note yet deal with the flux which can be measured on Earth. So we will ignore the distance to the source. We will do so by using a distance of 0."
   ]
  },
  {
   "cell_type": "code",
   "execution_count": null,
   "metadata": {},
   "outputs": [],
   "source": [
    "d = 0 * u.kpc"
   ]
  },
  {
   "cell_type": "markdown",
   "metadata": {},
   "source": [
    "## Particle Spectra\n",
    "For our example we will assume a particle spectrum following a power law with index 2.5, with an amplitude $A$ at a reference energy of 1 TeV and an exponential cut off at an energy of 10 TeV. A power law with an exponential cut-off is given by\n",
    "$$\n",
    "f(E) = A \\left( \\frac{E}{E_0} \\right)^{-\\Gamma} \\times \\exp{\\left( -\\left(\\frac{E}{E_\\mathsf{cut}}\\right)^\\alpha \\right)} \n",
    "$$\n",
    "We will use $\\alpha = 1$ throughout this notebook. This is the default value, we simply ignore it."
   ]
  },
  {
   "cell_type": "code",
   "execution_count": null,
   "metadata": {},
   "outputs": [],
   "source": [
    "A = 1e45/u.TeV\n",
    "E_0 = 1 * u.TeV\n",
    "Gamma = 2.5\n",
    "E_cut = 10 * u.TeV"
   ]
  },
  {
   "cell_type": "code",
   "execution_count": null,
   "metadata": {},
   "outputs": [],
   "source": [
    "PL = ExponentialCutoffPowerLaw(A, E_0, Gamma, E_cut)"
   ]
  },
  {
   "cell_type": "markdown",
   "metadata": {},
   "source": [
    "We want to take a look at the spectrum in an energy range from 1 MeV to 100 TeV. (We should go down to 0.511 MeV as this is the electron rest energy. But this does not make a big difference)."
   ]
  },
  {
   "cell_type": "code",
   "execution_count": null,
   "metadata": {},
   "outputs": [],
   "source": [
    "energies = np.logspace(-6,2,801) * u.TeV"
   ]
  },
  {
   "cell_type": "code",
   "execution_count": null,
   "metadata": {},
   "outputs": [],
   "source": [
    "N = PL(energies)"
   ]
  },
  {
   "cell_type": "markdown",
   "metadata": {},
   "source": [
    "Let's make a plot of it:"
   ]
  },
  {
   "cell_type": "code",
   "execution_count": null,
   "metadata": {},
   "outputs": [],
   "source": [
    "plt.loglog(energies, N)\n",
    "\n",
    "plt.xlabel('E [{}]'.format(energies.unit))\n",
    "plt.ylabel('dN/dE [{}]'.format(N.unit))"
   ]
  },
  {
   "cell_type": "markdown",
   "metadata": {},
   "source": [
    "You see that above $\\approx 1\\,\\mathsf{TeV}$ the spectrum sharply drops off from the straight power law."
   ]
  },
  {
   "cell_type": "markdown",
   "metadata": {},
   "source": [
    "Note that this power law object describes only the shape of the spectrum. It tells us how many particles are found at which energy. It does not make any claim on the type of the particle. It can be electrons, protons, photons or anything else."
   ]
  },
  {
   "cell_type": "markdown",
   "metadata": {},
   "source": [
    "We can get the total energy stored in these particles by integrating over the number of particles (N) multiplied with the energy (from array energies):"
   ]
  },
  {
   "cell_type": "code",
   "execution_count": null,
   "metadata": {},
   "outputs": [],
   "source": [
    "E_tot = np.trapz(N*energies, energies)"
   ]
  },
  {
   "cell_type": "code",
   "execution_count": null,
   "metadata": {},
   "outputs": [],
   "source": [
    "E_tot.to(u.erg)"
   ]
  },
  {
   "cell_type": "markdown",
   "metadata": {},
   "source": [
    "## Synchrotron Radiation\n",
    "Naima provides a model for synchrotron radiation. We will use the magnetic field as before."
   ]
  },
  {
   "cell_type": "code",
   "execution_count": null,
   "metadata": {},
   "outputs": [],
   "source": [
    "B = 1e-8 * u.T"
   ]
  },
  {
   "cell_type": "markdown",
   "metadata": {},
   "source": [
    "We will create a synchrotron model object. The shape of the electron spectrum is given by the power law with cut-off as defined above. We also need to indicate the electron's minimal energy of 511 keV, as this is lower than the default value of 1 GeV."
   ]
  },
  {
   "cell_type": "code",
   "execution_count": null,
   "metadata": {},
   "outputs": [],
   "source": [
    "sync = Synchrotron(PL, B, Eemin = 511*u.keV)"
   ]
  },
  {
   "cell_type": "markdown",
   "metadata": {},
   "source": [
    "Note that this object has additional parameters. The maximum energy can be given as well (parameter Eemax) and the default value is 510 TeV. The number of points can be changed ro reduce computing time or increase accuracy (parameter nEed, default value 100).\n",
    "\n",
    "This object allows to calculate the total energy in electrons. This should correspond to our calculation above."
   ]
  },
  {
   "cell_type": "code",
   "execution_count": null,
   "metadata": {},
   "outputs": [],
   "source": [
    "sync.We"
   ]
  },
  {
   "cell_type": "markdown",
   "metadata": {},
   "source": [
    "You can also calculate the energy in electrons in a certain energy range, let's say from 100 GeV to 1 TeV:"
   ]
  },
  {
   "cell_type": "code",
   "execution_count": null,
   "metadata": {},
   "outputs": [],
   "source": [
    "sync.compute_We(100*u.GeV, 1*u.TeV)"
   ]
  },
  {
   "cell_type": "markdown",
   "metadata": {},
   "source": [
    "Let's create an energy range for the photons. This will define the range of the electromagnetic spectrum we want to study. We will study the range from $10^{-19}\\,\\mathsf{TeV}$ to $100\\,\\mathsf{TeV}$."
   ]
  },
  {
   "cell_type": "code",
   "execution_count": null,
   "metadata": {},
   "outputs": [],
   "source": [
    "photon_energies = np.logspace(-19,2,211) * u.TeV"
   ]
  },
  {
   "cell_type": "markdown",
   "metadata": {},
   "source": [
    "With the flux function of the sync object we can get the number of photons produced every second. We have to set the distance to 0, which we have defined as d = 0 above."
   ]
  },
  {
   "cell_type": "code",
   "execution_count": null,
   "metadata": {},
   "outputs": [],
   "source": [
    "flux_sync = sync.flux(photon_energies, distance = d)"
   ]
  },
  {
   "cell_type": "code",
   "execution_count": null,
   "metadata": {},
   "outputs": [],
   "source": [
    "flux_sync"
   ]
  },
  {
   "cell_type": "markdown",
   "metadata": {},
   "source": [
    "We can also use the function sed (which stands for spectral energy distribution) to get the energy flux, or with a distance of zero the luminosity of source."
   ]
  },
  {
   "cell_type": "code",
   "execution_count": null,
   "metadata": {},
   "outputs": [],
   "source": [
    "sed_sync = sync.sed(photon_energies, distance = d)"
   ]
  },
  {
   "cell_type": "code",
   "execution_count": null,
   "metadata": {},
   "outputs": [],
   "source": [
    "sed_sync"
   ]
  },
  {
   "cell_type": "markdown",
   "metadata": {},
   "source": [
    "You can get the SED by multiplying the flux with the square of the photon energy. Let's try this:"
   ]
  },
  {
   "cell_type": "code",
   "execution_count": null,
   "metadata": {},
   "outputs": [],
   "source": [
    "(flux_sync*(photon_energies**2)).to(u.erg/u.s)"
   ]
  },
  {
   "cell_type": "code",
   "execution_count": null,
   "metadata": {},
   "outputs": [],
   "source": [
    "Eflux_sync = flux_sync * photon_energies"
   ]
  },
  {
   "cell_type": "code",
   "execution_count": null,
   "metadata": {},
   "outputs": [],
   "source": [
    "Eflux_sync"
   ]
  },
  {
   "cell_type": "markdown",
   "metadata": {},
   "source": [
    "We can integrate over Eflux to get the total power in synchrotron radiation."
   ]
  },
  {
   "cell_type": "code",
   "execution_count": null,
   "metadata": {},
   "outputs": [],
   "source": [
    "P_sync = (np.trapz(Eflux_sync, photon_energies)).to(u.erg/u.s)"
   ]
  },
  {
   "cell_type": "code",
   "execution_count": null,
   "metadata": {},
   "outputs": [],
   "source": [
    "P_sync"
   ]
  },
  {
   "cell_type": "markdown",
   "metadata": {},
   "source": [
    "We can make a plot of the synchrotron radiation. Usually the SED is plotted in astrophysical publications."
   ]
  },
  {
   "cell_type": "code",
   "execution_count": null,
   "metadata": {},
   "outputs": [],
   "source": [
    "plt.loglog(photon_energies, sed_sync)\n",
    "\n",
    "plt.title('synchrotron radiation')\n",
    "\n",
    "plt.xlabel('$E$ [{}]'.format(photon_energies.unit))\n",
    "plt.ylabel('$E^2 dN/dE$ [{}]'.format(sed_sync.unit))\n",
    "\n",
    "plt.ylim(1e24, 1e36)"
   ]
  },
  {
   "cell_type": "markdown",
   "metadata": {},
   "source": [
    "## Inverse Compton Emission\n",
    "Similarly, you can also get the IC emission of these electrons. There several predefined photon fields in naima. You can also define your own photon field. For the moment we deal only with photons of the Cosmic Microwave Background (CMB)."
   ]
  },
  {
   "cell_type": "code",
   "execution_count": null,
   "metadata": {},
   "outputs": [],
   "source": [
    "photon_fields = ['CMB']"
   ]
  },
  {
   "cell_type": "code",
   "execution_count": null,
   "metadata": {},
   "outputs": [],
   "source": [
    "IC = InverseCompton(PL, photon_fields, Eemin = 511*u.keV)"
   ]
  },
  {
   "cell_type": "markdown",
   "metadata": {},
   "source": [
    "This works exactly as the synchrotron object, so we can do the same tests as above."
   ]
  },
  {
   "cell_type": "code",
   "execution_count": null,
   "metadata": {},
   "outputs": [],
   "source": [
    "IC.We"
   ]
  },
  {
   "cell_type": "code",
   "execution_count": null,
   "metadata": {},
   "outputs": [],
   "source": [
    "flux_ic = IC.flux(photon_energies, distance = d)\n",
    "\n",
    "sed_ic = IC.sed(photon_energies, distance = d)\n",
    "\n",
    "Eflux_ic = flux_ic * photon_energies"
   ]
  },
  {
   "cell_type": "code",
   "execution_count": null,
   "metadata": {},
   "outputs": [],
   "source": [
    "P_IC = (np.trapz(Eflux_ic, photon_energies)).to(u.erg/u.s)"
   ]
  },
  {
   "cell_type": "code",
   "execution_count": null,
   "metadata": {},
   "outputs": [],
   "source": [
    "P_IC"
   ]
  },
  {
   "cell_type": "markdown",
   "metadata": {},
   "source": [
    "This is the power radiated from Inverse Compton scattering. This is much lower than what we have calculated for the synchrotron radiation. Keep in mind, that ususally the cooling is synchrotron dominated."
   ]
  },
  {
   "cell_type": "markdown",
   "metadata": {},
   "source": [
    "Let's try to calculate the magnetic field from the power in synchrotron and inverse Compton emission. The equation from lecture slide 88 is \n",
    "$$\n",
    "B = \\sqrt{ \\frac{u_\\mathsf{rad} P_\\mathsf{sync} 2 \\mu_0}{P_\\mathsf{IC}} }\n",
    "$$\n",
    "where $u_\\mathsf{rad} = 0.25\\,\\mathsf{eV}/\\mathsf{cm}^3$ is the energy density of the CMB photon field."
   ]
  },
  {
   "cell_type": "code",
   "execution_count": null,
   "metadata": {},
   "outputs": [],
   "source": [
    "B_measured = sqrt(0.25*u.eV/u.cm**3 * P_sync * 2 * c.mu0 / P_IC)"
   ]
  },
  {
   "cell_type": "code",
   "execution_count": null,
   "metadata": {},
   "outputs": [],
   "source": [
    "B_measured.to(u.T)"
   ]
  },
  {
   "cell_type": "markdown",
   "metadata": {},
   "source": [
    "This is the vaule we have put into our model!"
   ]
  },
  {
   "cell_type": "markdown",
   "metadata": {},
   "source": [
    "Let's make a plot of the Inverse Compton emission."
   ]
  },
  {
   "cell_type": "code",
   "execution_count": null,
   "metadata": {},
   "outputs": [],
   "source": [
    "plt.loglog(photon_energies, sed_ic)\n",
    "\n",
    "plt.title('Inverse Compton emission')\n",
    "\n",
    "plt.xlabel('$E$ [{}]'.format(photon_energies.unit))\n",
    "plt.ylabel('$E^2 dN/dE$ [{}]'.format(sed_ic.unit))"
   ]
  },
  {
   "cell_type": "markdown",
   "metadata": {},
   "source": [
    "Note the break at lower energies. This is due to the minimum energy of 511 keV. You can test this yourself. We can safely ignore this, this is at levels that we cannot measure anyway."
   ]
  },
  {
   "cell_type": "markdown",
   "metadata": {},
   "source": [
    "## Combined Plot\n",
    "We can show both emissions in one plot. This is the SED of the source."
   ]
  },
  {
   "cell_type": "code",
   "execution_count": null,
   "metadata": {},
   "outputs": [],
   "source": [
    "plt.loglog(photon_energies, sed_sync, label='synchrotron')\n",
    "plt.loglog(photon_energies, sed_ic, label='inverse Compton off CMB')\n",
    "\n",
    "plt.legend()\n",
    "plt.xlabel('$E$ [{}]'.format(photon_energies.unit))\n",
    "plt.ylabel('$E^2 dN/dE$ [{}]'.format(sed_ic.unit))\n",
    "\n",
    "plt.ylim(1e29, 1e36)"
   ]
  },
  {
   "cell_type": "markdown",
   "metadata": {},
   "source": [
    "You can also sum up the two components and show the total emission."
   ]
  },
  {
   "cell_type": "code",
   "execution_count": null,
   "metadata": {},
   "outputs": [],
   "source": [
    "sed_sum = sed_sync + sed_ic"
   ]
  },
  {
   "cell_type": "code",
   "execution_count": null,
   "metadata": {},
   "outputs": [],
   "source": [
    "plt.loglog(photon_energies, sed_sum)"
   ]
  },
  {
   "cell_type": "markdown",
   "metadata": {},
   "source": [
    "### Exercise\n",
    "We keep the electron spectrum as it is. We want to understand what is happening when we increase or decrease the magnetic field. Plot the total emission (synchrotron and inverse Compton emission) for the cases of $10^{-7}\\,\\mathsf{T}$, $10^{-8}\\,\\mathsf{T}$ and $10^{-9}\\,\\mathsf{T}$."
   ]
  },
  {
   "cell_type": "code",
   "execution_count": null,
   "metadata": {},
   "outputs": [],
   "source": [
    "Bs = [1e-7,1e-8,1e-9] *u.T"
   ]
  },
  {
   "cell_type": "code",
   "execution_count": null,
   "metadata": {},
   "outputs": [],
   "source": [
    "# your code here"
   ]
  },
  {
   "cell_type": "markdown",
   "metadata": {},
   "source": [
    "## Hadronic emission\n",
    "Naima also provides a model for gamma-ray production through pion decay in inelastic proton-proton collisions. The only parameter is the target material density, we will use 1 particle per cm^3."
   ]
  },
  {
   "cell_type": "code",
   "execution_count": null,
   "metadata": {},
   "outputs": [],
   "source": [
    "n = 1./ u.cm**3"
   ]
  },
  {
   "cell_type": "markdown",
   "metadata": {},
   "source": [
    "We will define a new spectrum for the protons and keep the same parameters. (We could use the same as above, but we want to be sure that we do not mix up the different particles.)"
   ]
  },
  {
   "cell_type": "code",
   "execution_count": null,
   "metadata": {},
   "outputs": [],
   "source": [
    "PL_protons = ExponentialCutoffPowerLaw(A, E_0, Gamma, E_cut)"
   ]
  },
  {
   "cell_type": "code",
   "execution_count": null,
   "metadata": {},
   "outputs": [],
   "source": [
    "had = PionDecay(PL_protons, n)"
   ]
  },
  {
   "cell_type": "markdown",
   "metadata": {},
   "source": [
    "Similar to what was done above we can calculate the total energy in protons. As we are talking about protons now we have to call Wp:"
   ]
  },
  {
   "cell_type": "code",
   "execution_count": null,
   "metadata": {},
   "outputs": [],
   "source": [
    "had.Wp"
   ]
  },
  {
   "cell_type": "markdown",
   "metadata": {},
   "source": [
    "This is what we have put in above. But for protons this might be a bit low. For a supernova remnant for example we are expecting up to $10^{50}\\,\\mathsf{erg}$ which is about 10% of the explosion energy. We can set the total energy in the PionDecay object:"
   ]
  },
  {
   "cell_type": "code",
   "execution_count": null,
   "metadata": {},
   "outputs": [],
   "source": [
    "had.set_Wp(1e50*u.erg)"
   ]
  },
  {
   "cell_type": "code",
   "execution_count": null,
   "metadata": {},
   "outputs": [],
   "source": [
    "had.Wp"
   ]
  },
  {
   "cell_type": "markdown",
   "metadata": {},
   "source": [
    "This worked. This changed the amplitude of our spectrum. Let's check:"
   ]
  },
  {
   "cell_type": "code",
   "execution_count": null,
   "metadata": {},
   "outputs": [],
   "source": [
    "PL_protons.amplitude"
   ]
  },
  {
   "cell_type": "markdown",
   "metadata": {},
   "source": [
    "Now we can do the same steps as above:"
   ]
  },
  {
   "cell_type": "code",
   "execution_count": null,
   "metadata": {},
   "outputs": [],
   "source": [
    "flux_had = had.flux(photon_energies, distance = d)\n",
    "\n",
    "sed_had = had.sed(photon_energies, distance = d)\n",
    "\n",
    "Eflux_had = flux_had * photon_energies"
   ]
  },
  {
   "cell_type": "code",
   "execution_count": null,
   "metadata": {},
   "outputs": [],
   "source": [
    "P_had = (np.trapz(Eflux_had, photon_energies)).to(u.erg/u.s)"
   ]
  },
  {
   "cell_type": "code",
   "execution_count": null,
   "metadata": {},
   "outputs": [],
   "source": [
    "P_had"
   ]
  },
  {
   "cell_type": "code",
   "execution_count": null,
   "metadata": {},
   "outputs": [],
   "source": [
    "plt.loglog(photon_energies, sed_had)\n",
    "\n",
    "plt.title('hadronic emission')\n",
    "\n",
    "plt.xlabel('$E$ [{}]'.format(photon_energies.unit))\n",
    "plt.ylabel('$E^2 dN/dE$ [{}]'.format(sed_ic.unit))\n",
    "\n",
    "plt.ylim(1e30)\n",
    "plt.xlim(1e-6)"
   ]
  },
  {
   "cell_type": "markdown",
   "metadata": {},
   "source": [
    "You see the characteristic turn-over at lower energies due to the pion mass. The cut-off at high energies is due to the break in the proton spectrum."
   ]
  },
  {
   "cell_type": "markdown",
   "metadata": {},
   "source": [
    "## Final Assessment\n",
    "Your final assessment on modeling of non-thermal emission is to reproduce the spectral enerfy distribution of the pulsar wind nebula N157B, which is shown in Figure 2 of the paper. You need only one of the leptonic models, chose either the regular model (green lines) or the conservative model (red lines).\n",
    "\n",
    "The spectral model for the electrons is not a straight power law, it is a broken power law. Check the documentation (here: https://naima.readthedocs.io/en/latest/api-models.html#naima.models.BrokenPowerLaw) to see what to do with it.\n",
    "\n",
    "You will need to create emission models for Inverse Compton emission off the CMB and two other photon fields. The parameters of these photon fields are described in the paper. Please check the documentation of naima (here: https://naima.readthedocs.io/en/latest/api-models.html#naima.models.InverseCompton, parameter seed_photon_fields) to see what to do with these parameters.\n",
    "\n",
    "Please show the models for synchrotron radiation and all three models for the different photon fields in the inverse Compton case. You can also make the sum of all and show on the plot as well.\n",
    "\n",
    "Do not forget to show the hadronic model, but do not add it to the sum of emission.\n",
    "\n",
    "Note: The models in the paper are the result of a fit of the parameters to the observational data. You don't have to do a fit, you do not have the data either. You just take the parameters as quoted in the paper."
   ]
  },
  {
   "cell_type": "code",
   "execution_count": null,
   "metadata": {},
   "outputs": [],
   "source": [
    "# your code here"
   ]
  }
 ],
 "metadata": {
  "kernelspec": {
   "display_name": "Python 3",
   "language": "python",
   "name": "python3"
  },
  "language_info": {
   "codemirror_mode": {
    "name": "ipython",
    "version": 3
   },
   "file_extension": ".py",
   "mimetype": "text/x-python",
   "name": "python",
   "nbconvert_exporter": "python",
   "pygments_lexer": "ipython3",
   "version": "3.7.6"
  }
 },
 "nbformat": 4,
 "nbformat_minor": 4
}
