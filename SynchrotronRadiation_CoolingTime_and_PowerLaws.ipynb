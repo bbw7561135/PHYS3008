{
 "cells": [
  {
   "cell_type": "markdown",
   "metadata": {},
   "source": [
    "# Synchrotron Radiation: Cooling Time and Power Laws"
   ]
  },
  {
   "cell_type": "markdown",
   "metadata": {},
   "source": [
    "## Pre-Requisites\n",
    "As usual, we start with importing the necessary modules."
   ]
  },
  {
   "cell_type": "code",
   "execution_count": null,
   "metadata": {},
   "outputs": [],
   "source": [
    "from astropy import units as u\n",
    "from astropy import constants as c\n",
    "\n",
    "from astropy.modeling.powerlaws import PowerLaw1D\n",
    "\n",
    "import numpy as np\n",
    "\n",
    "import matplotlib.pyplot as plt\n",
    "\n",
    "from math import pi\n",
    "from numpy import sqrt, cos, sin, tan, abs"
   ]
  },
  {
   "cell_type": "markdown",
   "metadata": {},
   "source": [
    "## Synchrotron Cooling Time"
   ]
  },
  {
   "cell_type": "markdown",
   "metadata": {},
   "source": [
    "The synchrotron cooling time (lecture, slide 54) is\n",
    "$$\n",
    "\\tau_\\mathsf{sync} (U) = \\frac{3}{2} \\frac{c m_e^2}{\\varepsilon_0 \\sigma_T \\beta B^2 U}\n",
    "$$\n",
    "where $B$ is the magnetic field and $U$ is the total energy of the electron. We will be dealing only with electrons so we will use the eletron mass for the particle's mass.\n",
    "### Exercise\n",
    "Write a function that calculates the cooling time for a given magnetic field and (an array of) electron energy."
   ]
  },
  {
   "cell_type": "code",
   "execution_count": null,
   "metadata": {},
   "outputs": [],
   "source": [
    "def CoolingTime_Sync (U, B = 5e-8*u.T, beta = 1.) :\n",
    "    \n",
    "    # your code here\n",
    "    tau = U.value * 0 * u.s\n",
    "    \n",
    "    return tau.to(u.s)"
   ]
  },
  {
   "cell_type": "markdown",
   "metadata": {},
   "source": [
    "Let's test the function for an array of four electron energies:"
   ]
  },
  {
   "cell_type": "code",
   "execution_count": null,
   "metadata": {},
   "outputs": [],
   "source": [
    "U = [1e-1, 1, 10] * u.TeV"
   ]
  },
  {
   "cell_type": "code",
   "execution_count": null,
   "metadata": {},
   "outputs": [],
   "source": [
    "CoolingTime_Sync (U)"
   ]
  },
  {
   "cell_type": "markdown",
   "metadata": {},
   "source": [
    "Make a plot of the cooling time vs. electron energy for electron energies between 1 MeV and 100 TeV."
   ]
  },
  {
   "cell_type": "code",
   "execution_count": null,
   "metadata": {},
   "outputs": [],
   "source": [
    "# your code here"
   ]
  },
  {
   "cell_type": "markdown",
   "metadata": {},
   "source": [
    "## Synchrotron Radiation from an Electron Population\n",
    "So far we have dealt with mono-energetic electrons. We usually observe electrons of many different energies, often they follow a power law. Let's define our power law as in the Introduction."
   ]
  },
  {
   "cell_type": "code",
   "execution_count": null,
   "metadata": {},
   "outputs": [],
   "source": [
    "E_0 = 1 * u.TeV\n",
    "A = 10 / u.TeV\n",
    "Gamma = 2.5"
   ]
  },
  {
   "cell_type": "code",
   "execution_count": null,
   "metadata": {},
   "outputs": [],
   "source": [
    "PL = PowerLaw1D(A, E_0, Gamma)"
   ]
  },
  {
   "cell_type": "markdown",
   "metadata": {},
   "source": [
    "We want to take a look at the synchrotron spectrum. So we need our functions for the synchrotron spectrum from the last notebook:"
   ]
  },
  {
   "cell_type": "code",
   "execution_count": null,
   "metadata": {},
   "outputs": [],
   "source": [
    "import scipy.integrate as integrate\n",
    "import scipy.special as special\n",
    "\n",
    "def F(x) :\n",
    "    ## https://docs.scipy.org/doc/scipy/reference/tutorial/integrate.html\n",
    "    \n",
    "    #K53 = special.kv(5./3, x)\n",
    "    result = x*integrate.quad(lambda z: special.kv(5./3,z), x, np.inf)[0]\n",
    "    \n",
    "    return result\n",
    "\n",
    "def F_vec(x_vec) :\n",
    "    \n",
    "    integrateArray = []\n",
    "    \n",
    "    for x in x_vec :\n",
    "        integrate = F(x)\n",
    "        integrateArray.append(integrate)\n",
    "    \n",
    "    return integrateArray    \n",
    "\n",
    "def nu_sync (U, B, phi = 90*u.degree) : \n",
    "    \n",
    "    ret = U**2 * c.e.si * B * sin(phi) / 2 / pi / c.m_e**3 / c.c**4\n",
    "    \n",
    "    return ret.decompose().to(u.Hz)\n",
    "\n",
    "def Psync(nu, E, B, phi = 90*u.degree) : \n",
    "\n",
    "    nu_over_nus = nu / nu_sync (E, B, phi)\n",
    "    \n",
    "    nu_over_nus = nu_over_nus.decompose().value\n",
    "    \n",
    "    if type(nu_over_nus) is np.ndarray :\n",
    "        #print('array mode')\n",
    "        ret = np.array(F_vec(nu_over_nus))*u.one\n",
    "    else :\n",
    "        #print('single mode')\n",
    "        ret = F(nu_over_nus)*u.one\n",
    "\n",
    "\n",
    "    ret *= sqrt(3)/8/pi**2 \n",
    "    \n",
    "    ret *= c.e.si**3 * B * sin(phi) / c.m_e / c.c / c.eps0.si\n",
    "\n",
    "\n",
    "    return ret.to(u.W/u.Hz)\n"
   ]
  },
  {
   "cell_type": "markdown",
   "metadata": {},
   "source": [
    "We define a range of photon frequencies:"
   ]
  },
  {
   "cell_type": "code",
   "execution_count": null,
   "metadata": {},
   "outputs": [],
   "source": [
    "frequencies = np.logspace(13, 19, 601) * u.Hz"
   ]
  },
  {
   "cell_type": "markdown",
   "metadata": {},
   "source": [
    "And we use our magnetic field of $B = 10^{-8}\\,\\mathsf{T}$:"
   ]
  },
  {
   "cell_type": "code",
   "execution_count": null,
   "metadata": {},
   "outputs": [],
   "source": [
    "B = 1e-8 * u.T"
   ]
  },
  {
   "cell_type": "markdown",
   "metadata": {},
   "source": [
    "Let's get the synchrotron spectra for electron energies of 100 GeV, 1 TeV and 10 TeV: "
   ]
  },
  {
   "cell_type": "code",
   "execution_count": null,
   "metadata": {},
   "outputs": [],
   "source": [
    "spec_100GeV = Psync(frequencies, 100*u.GeV, B)\n",
    "spec_1TeV = Psync(frequencies, 1*u.TeV, B)\n",
    "spec_10TeV = Psync(frequencies, 10*u.TeV, B)"
   ]
  },
  {
   "cell_type": "markdown",
   "metadata": {},
   "source": [
    "But we have more electrons at 1 GeV then at 10 GeV. How many electrons? This comes from the power law defined above. We have to multiply the spectrum with the number of electrons:"
   ]
  },
  {
   "cell_type": "code",
   "execution_count": null,
   "metadata": {},
   "outputs": [],
   "source": [
    "spec_100GeV *= PL(100*u.GeV)\n",
    "spec_1TeV *= PL(1*u.TeV)\n",
    "spec_10TeV *= PL(10*u.TeV)"
   ]
  },
  {
   "cell_type": "markdown",
   "metadata": {},
   "source": [
    "We have to sum these spectra to get the total emission:"
   ]
  },
  {
   "cell_type": "code",
   "execution_count": null,
   "metadata": {},
   "outputs": [],
   "source": [
    "spec_sum = spec_100GeV.copy()\n",
    "\n",
    "spec_sum += spec_1TeV\n",
    "spec_sum += spec_10TeV"
   ]
  },
  {
   "cell_type": "code",
   "execution_count": null,
   "metadata": {},
   "outputs": [],
   "source": [
    "plt.loglog(frequencies, spec_sum, label = \"total emission\", linewidth = 4)\n",
    "\n",
    "plt.loglog(frequencies, spec_100GeV, label = \"100 GeV\")\n",
    "plt.loglog(frequencies, spec_1TeV, label = \"1 TeV\")\n",
    "plt.loglog(frequencies, spec_10TeV, label = \"10 TeV\")\n",
    "\n",
    "plt.legend()\n",
    "\n",
    "#p we need to limit the y range a bit:\n",
    "plt.ylim(1e-40,1e-30)\n",
    "\n",
    "plt.xlabel('frequency [{}]'.format(frequencies.unit))\n",
    "plt.ylabel('P [{}]'.format(spec_sum.unit))"
   ]
  },
  {
   "cell_type": "markdown",
   "metadata": {},
   "source": [
    "### Exercise\n",
    "Keep the electron energy range from 100 GeV to 10 TeV. Make the same plot as above but for many more intermediate energies. Create an array of electron energies and loop over it. You should have enough intermediate energies that the total emission is almost a power law.\n",
    "\n",
    "Take the part of the spectrum following clearly a power law. Find out the spectral index. You can do that by taking two values and doing the calculation on a sheet of paper. You can also do a least-square fit of the total emission.."
   ]
  },
  {
   "cell_type": "code",
   "execution_count": null,
   "metadata": {},
   "outputs": [],
   "source": [
    "# Here is an empty spectrum to be filled in\n",
    "\n",
    "spec_sum = np.zeros(len(frequencies)) * u.W / (u.Hz * u.TeV)"
   ]
  },
  {
   "cell_type": "code",
   "execution_count": null,
   "metadata": {},
   "outputs": [],
   "source": [
    "#exec(open('PowerLaws_solution.py').read())"
   ]
  },
  {
   "cell_type": "code",
   "execution_count": null,
   "metadata": {},
   "outputs": [],
   "source": []
  }
 ],
 "metadata": {
  "kernelspec": {
   "display_name": "Python 3",
   "language": "python",
   "name": "python3"
  },
  "language_info": {
   "codemirror_mode": {
    "name": "ipython",
    "version": 3
   },
   "file_extension": ".py",
   "mimetype": "text/x-python",
   "name": "python",
   "nbconvert_exporter": "python",
   "pygments_lexer": "ipython3",
   "version": "3.7.6"
  }
 },
 "nbformat": 4,
 "nbformat_minor": 4
}
