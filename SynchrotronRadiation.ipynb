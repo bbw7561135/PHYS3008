{
 "cells": [
  {
   "cell_type": "markdown",
   "metadata": {},
   "source": [
    "# Synchrotron Radiation"
   ]
  },
  {
   "cell_type": "markdown",
   "metadata": {},
   "source": [
    "## Pre-Requisites\n",
    "As usual, we start with importing the necessary modules."
   ]
  },
  {
   "cell_type": "code",
   "execution_count": null,
   "metadata": {},
   "outputs": [],
   "source": [
    "from astropy import units as u\n",
    "from astropy import constants as c\n",
    "\n",
    "from astropy.modeling.powerlaws import PowerLaw1D\n",
    "\n",
    "import numpy as np\n",
    "\n",
    "import matplotlib.pyplot as plt\n",
    "\n",
    "from math import pi\n",
    "from numpy import sqrt, cos, sin, tan, abs"
   ]
  },
  {
   "cell_type": "markdown",
   "metadata": {},
   "source": [
    "## Relativistic Gyro-Frequency"
   ]
  },
  {
   "cell_type": "markdown",
   "metadata": {},
   "source": [
    "Let's declare a function to calculate the gyro-frequency, as on the lecture slides on page 27. It takes as parameters the magnetic field B, the Lorentz factor $\\gamma$, the charge q in elementary charges with -1 as default and the mass of the particle with the electron mass as default."
   ]
  },
  {
   "cell_type": "code",
   "execution_count": null,
   "metadata": {},
   "outputs": [],
   "source": [
    "def omega_r(B, gamma, q = -1, m = c.m_e) :\n",
    "    \n",
    "    # convert q into charge\n",
    "    q *= c.e.si\n",
    "    \n",
    "    # we only need the magnitude of the charge:\n",
    "    q = abs(q)\n",
    "    \n",
    "    # equation as on the lecture slides\n",
    "    omega_r = q*B/(gamma*m)\n",
    "    \n",
    "    # return omega_r in units of Hz\n",
    "    return omega_r.to(u.Hz)"
   ]
  },
  {
   "cell_type": "markdown",
   "metadata": {},
   "source": [
    "This function takes the Lorentz factor $\\gamma$ as parameter. But often we have the total energy of a particle, we can calculate the Lorentz factor with\n",
    "$$ \\gamma = \\frac{E_\\mathrm{tot}}{m c^2} .$$\n",
    "Let's write another function for that. It will take the (total) energy of the particle and the particle mass as parameter. The mass defaults to the electron mass."
   ]
  },
  {
   "cell_type": "code",
   "execution_count": null,
   "metadata": {},
   "outputs": [],
   "source": [
    "def gamma_fromEtot (E, m = c.m_e) :\n",
    "    \n",
    "    gamma = E/(m*c.c**2)\n",
    "    \n",
    "    # gamma is dimensionless, let's decompose before returning\n",
    "    return gamma.decompose()"
   ]
  },
  {
   "cell_type": "markdown",
   "metadata": {},
   "source": [
    "The lecture example is for an electron with kinetic energy of"
   ]
  },
  {
   "cell_type": "code",
   "execution_count": null,
   "metadata": {},
   "outputs": [],
   "source": [
    "E_kin = 5e-10 *u.J"
   ]
  },
  {
   "cell_type": "markdown",
   "metadata": {},
   "source": [
    "We need the total energy, which is the sum of the kinetic energy and the rest energy ($mc^2$)."
   ]
  },
  {
   "cell_type": "code",
   "execution_count": null,
   "metadata": {},
   "outputs": [],
   "source": [
    "E_tot = E_kin + c.m_e*c.c**2"
   ]
  },
  {
   "cell_type": "code",
   "execution_count": null,
   "metadata": {},
   "outputs": [],
   "source": [
    "E_tot"
   ]
  },
  {
   "cell_type": "markdown",
   "metadata": {},
   "source": [
    "You see that at these energies the rest energy of the electron is negligible.\n",
    "\n",
    "Let's calculate the Lorentz factor:"
   ]
  },
  {
   "cell_type": "code",
   "execution_count": null,
   "metadata": {},
   "outputs": [],
   "source": [
    "gamma_fromEtot(E_tot)"
   ]
  },
  {
   "cell_type": "markdown",
   "metadata": {},
   "source": [
    "The magnetic field is still"
   ]
  },
  {
   "cell_type": "code",
   "execution_count": null,
   "metadata": {},
   "outputs": [],
   "source": [
    "B = 40 * u.microTesla"
   ]
  },
  {
   "cell_type": "markdown",
   "metadata": {},
   "source": [
    "The gyro-frequency is"
   ]
  },
  {
   "cell_type": "code",
   "execution_count": null,
   "metadata": {},
   "outputs": [],
   "source": [
    "omega = omega_r(B, gamma_fromEtot(E_tot))"
   ]
  },
  {
   "cell_type": "code",
   "execution_count": null,
   "metadata": {},
   "outputs": [],
   "source": [
    "omega"
   ]
  },
  {
   "cell_type": "markdown",
   "metadata": {},
   "source": [
    "The number of cycles is"
   ]
  },
  {
   "cell_type": "code",
   "execution_count": null,
   "metadata": {},
   "outputs": [],
   "source": [
    "omega / (2*pi)"
   ]
  },
  {
   "cell_type": "markdown",
   "metadata": {},
   "source": [
    "We can plot $\\omega_r$ depending on the Lorentz factor."
   ]
  },
  {
   "cell_type": "code",
   "execution_count": null,
   "metadata": {},
   "outputs": [],
   "source": [
    "gammas = np.logspace(0,4,41)\n",
    "\n",
    "omegas = omega_r(B, gammas)\n",
    "\n",
    "plt.loglog(gammas, omegas)\n",
    "\n",
    "plt.xlabel('$\\gamma$')\n",
    "plt.ylabel('$\\omega _r$ [{}]'.format(omegas.unit))"
   ]
  },
  {
   "cell_type": "markdown",
   "metadata": {},
   "source": [
    "## Synchrotron Frequency\n",
    "\n",
    "The synchrotron frequency is (see slide 40)\n",
    "$$\\nu_\\mathrm{sync} = \\frac{1}{2\\pi} \\left( \\frac{U}{m c^2} \\right)^2 \\frac{qB}{m} \\sin \\phi$$\n",
    "We are interested in electrons only, so we can keep the charge and mass fixed. Here is a function to do the calculation:"
   ]
  },
  {
   "cell_type": "code",
   "execution_count": null,
   "metadata": {},
   "outputs": [],
   "source": [
    "def nu_sync (U, B, phi = 90*u.degree) : \n",
    "    \n",
    "    ret = U**2 * c.e.si * B * sin(phi) / 2 / pi / c.m_e**3 / c.c**4\n",
    "    \n",
    "    return ret.decompose().to(u.Hz)"
   ]
  },
  {
   "cell_type": "markdown",
   "metadata": {},
   "source": [
    "The lecture example takes an assumed magnetic field in the Crab Nebula of $B = 5 \\times 10^{-8}\\,\\mathrm{T}$.\n",
    "We have seen that there are electrons with an energy of $U = 21\\,\\mathrm{TeV}$. The synchrotron frequency is"
   ]
  },
  {
   "cell_type": "code",
   "execution_count": null,
   "metadata": {},
   "outputs": [],
   "source": [
    "nu = nu_sync(21*u.TeV, 5e-8*u.T)"
   ]
  },
  {
   "cell_type": "code",
   "execution_count": null,
   "metadata": {},
   "outputs": [],
   "source": [
    "nu"
   ]
  },
  {
   "cell_type": "markdown",
   "metadata": {},
   "source": [
    "And the photon energy is"
   ]
  },
  {
   "cell_type": "code",
   "execution_count": null,
   "metadata": {},
   "outputs": [],
   "source": [
    "E = nu*c.h"
   ]
  },
  {
   "cell_type": "code",
   "execution_count": null,
   "metadata": {},
   "outputs": [],
   "source": [
    "E.to(u.keV)"
   ]
  },
  {
   "cell_type": "markdown",
   "metadata": {},
   "source": [
    "### Exercise\n",
    "In order to fill the table on the tutorial sheet you need a function to calculate the electron energy $U$ in eV from the synchrotron frequency. Write a function to do this calculation."
   ]
  },
  {
   "cell_type": "code",
   "execution_count": null,
   "metadata": {},
   "outputs": [],
   "source": [
    "def Eelectron_sync (nu, B, phi = 90*u.degree) :\n",
    "    \n",
    "    # fill in your code here\n",
    "    E = 0*u.eV\n",
    "    \n",
    "    return E.to(u.eV)"
   ]
  },
  {
   "cell_type": "markdown",
   "metadata": {},
   "source": [
    "Now we test the function."
   ]
  },
  {
   "cell_type": "code",
   "execution_count": null,
   "metadata": {},
   "outputs": [],
   "source": [
    "Eelectron_sync(9.8*u.keV/c.h, B)"
   ]
  },
  {
   "cell_type": "markdown",
   "metadata": {},
   "source": [
    "## Power Spectrum\n",
    "We want to write a function to calculate the power spectrum of the synchrotron radiation of a mono-energetic electron. The equation (see slide 43) is\n",
    "$$ P(\\omega) = \\frac{\\sqrt{3}}{8 \\pi^2} \\frac{q^3 B \\sin \\phi}{\\epsilon_0 c m} F\\left( \\frac{\\omega}{\\omega_c} \\right)$$\n",
    "with\n",
    "$$ F(x) = x \\int_x^\\infty K_{5/3} (z) dz $$\n",
    "and $K_{5/3} (z)$ being a modified Bessel function of the 2nd kind."
   ]
  },
  {
   "cell_type": "markdown",
   "metadata": {},
   "source": [
    "In order write a function for the entire power spectrum of an electron we will need some more modules:"
   ]
  },
  {
   "cell_type": "code",
   "execution_count": null,
   "metadata": {},
   "outputs": [],
   "source": [
    "import scipy.integrate as integrate\n",
    "import scipy.special as special"
   ]
  },
  {
   "cell_type": "markdown",
   "metadata": {},
   "source": [
    "The function $F(x)$ can be programmed as follows. (see https://docs.scipy.org/doc/scipy/reference/tutorial/integrate.html)"
   ]
  },
  {
   "cell_type": "code",
   "execution_count": null,
   "metadata": {},
   "outputs": [],
   "source": [
    "def F(x) :\n",
    "    ## https://docs.scipy.org/doc/scipy/reference/tutorial/integrate.html\n",
    "    \n",
    "    #K53 = special.kv(5./3, x)\n",
    "    result = x*integrate.quad(lambda z: special.kv(5./3,z), x, np.inf)[0]\n",
    "    \n",
    "    return result"
   ]
  },
  {
   "cell_type": "markdown",
   "metadata": {},
   "source": [
    "But we need something that will work on a vector of x values:"
   ]
  },
  {
   "cell_type": "code",
   "execution_count": null,
   "metadata": {},
   "outputs": [],
   "source": [
    "def F_vec(x_vec) :\n",
    "    \n",
    "    integrateArray = []\n",
    "    \n",
    "    for x in x_vec :\n",
    "        integrate = F(x)\n",
    "        integrateArray.append(integrate)\n",
    "    \n",
    "    return integrateArray    "
   ]
  },
  {
   "cell_type": "markdown",
   "metadata": {},
   "source": [
    "Here is a function to calculate the power radiated by an electron with energy $E$ in a magnetic field $B$ with a pitch angle $\\phi$. nu can be a single frequency or an array of frequencies. Everything else must be a scalar."
   ]
  },
  {
   "cell_type": "code",
   "execution_count": null,
   "metadata": {},
   "outputs": [],
   "source": [
    "def Psync(nu, E, B, phi = 90*u.degree) : \n",
    "\n",
    "    nu_over_nus = nu / nu_sync (E, B, phi)\n",
    "    \n",
    "    nu_over_nus = nu_over_nus.decompose().value\n",
    "    \n",
    "    if type(nu_over_nus) is np.ndarray :\n",
    "        print('array mode')\n",
    "        ret = np.array(F_vec(nu_over_nus))*u.one\n",
    "    else :\n",
    "        print('single mode')\n",
    "        ret = F(nu_over_nus)*u.one\n",
    "\n",
    "\n",
    "    ret *= sqrt(3)/8/pi**2 \n",
    "    \n",
    "    ret *= c.e.si**3 * B * sin(phi) / c.m_e / c.c / c.eps0.si\n",
    "\n",
    "\n",
    "    return ret.to(u.W/u.Hz)\n"
   ]
  },
  {
   "cell_type": "markdown",
   "metadata": {},
   "source": [
    "Let's calulcate the power for a range of frequencies. Let's use an electron energy of $U = 19\\,\\mathrm{TeV}$ and $B = 5\\times10^{-8}\\,\\mathrm{T}$. "
   ]
  },
  {
   "cell_type": "code",
   "execution_count": null,
   "metadata": {},
   "outputs": [],
   "source": [
    "U = 19*u.TeV\n",
    "B = 5e-8*u.T"
   ]
  },
  {
   "cell_type": "code",
   "execution_count": null,
   "metadata": {},
   "outputs": [],
   "source": [
    "frequencies = np.logspace(13, 19, 601) * u.Hz"
   ]
  },
  {
   "cell_type": "code",
   "execution_count": null,
   "metadata": {},
   "outputs": [],
   "source": [
    "P = Psync(frequencies, U, B)"
   ]
  },
  {
   "cell_type": "code",
   "execution_count": null,
   "metadata": {},
   "outputs": [],
   "source": [
    "P"
   ]
  },
  {
   "cell_type": "markdown",
   "metadata": {},
   "source": [
    "Let's make a plot of it:"
   ]
  },
  {
   "cell_type": "code",
   "execution_count": null,
   "metadata": {},
   "outputs": [],
   "source": [
    "plt.plot(frequencies, P)\n",
    "\n",
    "plt.xscale('log')\n",
    "\n",
    "plt.xlabel('frequency [{}]'.format(frequencies.unit))\n",
    "plt.ylabel('P [{}]'.format(P.unit))"
   ]
  },
  {
   "cell_type": "markdown",
   "metadata": {},
   "source": [
    "### Exercise\n",
    "Make plots similar to the plots on slide 45 of the lecture. Use 0.1, 1 and 10 TeV for the electron energy and a magnetic field of $B = 10^{-8}\\,\\mathrm{T}$ for the first plot, and an electron energy of $U = 10\\,\\mathrm{TeV}$ and magnetic fields of $10^{-10}\\,\\mathrm{T}$,$10^{-9}\\,\\mathrm{T}$, and $10^{-8}\\,\\mathrm{T}$."
   ]
  },
  {
   "cell_type": "code",
   "execution_count": null,
   "metadata": {},
   "outputs": [],
   "source": [
    "# for plot 1\n",
    "U_1 = [0.1, 1, 10] *u.TeV\n",
    "B_1 = 1e-8 * u.T\n",
    "\n",
    "# fill in your code here"
   ]
  },
  {
   "cell_type": "code",
   "execution_count": null,
   "metadata": {},
   "outputs": [],
   "source": [
    "# for plot 2\n",
    "U_2 = 10 *u.TeV\n",
    "B_2 = [1e-10, 1e-9, 1e-8] * u.T\n",
    "\n",
    "# fill in your code here"
   ]
  },
  {
   "cell_type": "markdown",
   "metadata": {},
   "source": [
    "## Emitted Power in the Relativistic Case "
   ]
  },
  {
   "cell_type": "markdown",
   "metadata": {},
   "source": [
    "We will use the equation from slide 52 of the lecture. Electron energy and magnetic field are as above:"
   ]
  },
  {
   "cell_type": "code",
   "execution_count": null,
   "metadata": {},
   "outputs": [],
   "source": [
    "U"
   ]
  },
  {
   "cell_type": "code",
   "execution_count": null,
   "metadata": {},
   "outputs": [],
   "source": [
    "B"
   ]
  },
  {
   "cell_type": "markdown",
   "metadata": {},
   "source": [
    "As the electron is highly relativistic we can set $\\beta$ to $1$."
   ]
  },
  {
   "cell_type": "code",
   "execution_count": null,
   "metadata": {},
   "outputs": [],
   "source": [
    "beta = 1"
   ]
  },
  {
   "cell_type": "code",
   "execution_count": null,
   "metadata": {},
   "outputs": [],
   "source": [
    "P = 2./3 * c.eps0.si * c.sigma_T * beta**2 / (c.c * c.m_e**2) * B**2 * U**2"
   ]
  },
  {
   "cell_type": "code",
   "execution_count": null,
   "metadata": {},
   "outputs": [],
   "source": [
    "P.to(u.W)"
   ]
  },
  {
   "cell_type": "code",
   "execution_count": null,
   "metadata": {},
   "outputs": [],
   "source": []
  }
 ],
 "metadata": {
  "kernelspec": {
   "display_name": "Python 3",
   "language": "python",
   "name": "python3"
  },
  "language_info": {
   "codemirror_mode": {
    "name": "ipython",
    "version": 3
   },
   "file_extension": ".py",
   "mimetype": "text/x-python",
   "name": "python",
   "nbconvert_exporter": "python",
   "pygments_lexer": "ipython3",
   "version": "3.7.6"
  }
 },
 "nbformat": 4,
 "nbformat_minor": 4
}
