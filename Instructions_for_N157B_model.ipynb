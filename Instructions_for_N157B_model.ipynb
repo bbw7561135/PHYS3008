{
 "cells": [
  {
   "cell_type": "markdown",
   "metadata": {},
   "source": [
    "# Instructions for the N 157B Model\n",
    "In the lecture we have discussed a straight power law and a power law with an exponential cut-off. Looking at the naima documentation (https://naima.readthedocs.io/en/latest/api-models.html) you will find that there are further models, including a broken power law. A broken power law are just two power laws connecting at the break energy. But for N 157B we need a model with two breaks. Here you will get some instructions how to implement such a model."
   ]
  },
  {
   "cell_type": "markdown",
   "metadata": {},
   "source": [
    "First of all, we need to import a few modules:"
   ]
  },
  {
   "cell_type": "code",
   "execution_count": 35,
   "metadata": {},
   "outputs": [],
   "source": [
    "import astropy.units as u\n",
    "\n",
    "import numpy as np\n",
    "\n",
    "import matplotlib.pyplot as plt\n",
    "\n",
    "from naima.models import Synchrotron\n",
    "from naima.models import PowerLaw, BrokenPowerLaw, TableModel"
   ]
  },
  {
   "cell_type": "markdown",
   "metadata": {},
   "source": [
    "Let's define a few parameters: E_min and E_max are the minimal and maximal energy. E_1 is the intrinsic break and E_2 is the cooling break. p_1, p_2 and p_3 are the spectral indices. Here are some example values, you will need to change this to the values of the model you are using."
   ]
  },
  {
   "cell_type": "code",
   "execution_count": 4,
   "metadata": {},
   "outputs": [],
   "source": [
    "E_min = 511 * u.keV\n",
    "E_max = 1e15 *u.eV\n",
    "\n",
    "E_1 = 10 * u.GeV    # you need to change this value\n",
    "E_2 = 1 * u.TeV     # you need to change this value\n",
    "\n",
    "p_1 = 1.    #  you need to change this value\n",
    "p_2 = 2.    #  you need to change this value\n",
    "p_3 = 3.    #  you need to change this value"
   ]
  },
  {
   "cell_type": "markdown",
   "metadata": {},
   "source": [
    "Finally we need a value for the amplitude. We can use any value. The amplitude will change anyway when we set the total energy."
   ]
  },
  {
   "cell_type": "code",
   "execution_count": 5,
   "metadata": {},
   "outputs": [],
   "source": [
    "A = 1./u.TeV"
   ]
  },
  {
   "cell_type": "markdown",
   "metadata": {},
   "source": [
    "Let's start with a broken power law and build the first two parts of our spectrum."
   ]
  },
  {
   "cell_type": "code",
   "execution_count": 18,
   "metadata": {},
   "outputs": [],
   "source": [
    "model1 = BrokenPowerLaw(amplitude = A, e_0 = 1*u.TeV, e_break = E_1, alpha_1 = p_1, alpha_2 = p_2)"
   ]
  },
  {
   "cell_type": "markdown",
   "metadata": {},
   "source": [
    "This function should describe our model for energies in the range E_min to the second break, E_2. Let's define an energy range for this:"
   ]
  },
  {
   "cell_type": "code",
   "execution_count": 19,
   "metadata": {},
   "outputs": [],
   "source": [
    "energies1 = np.logspace(np.log10(E_min.to(u.TeV).value), np.log10(E_2.to(u.TeV).value), 100) *u.TeV"
   ]
  },
  {
   "cell_type": "code",
   "execution_count": 20,
   "metadata": {},
   "outputs": [
    {
     "data": {
      "text/latex": [
       "$[5.11 \\times 10^{-7},~5.9152377 \\times 10^{-7},~6.8473655 \\times 10^{-7},~7.9263786 \\times 10^{-7},~9.1754235 \\times 10^{-7},~1.0621294 \\times 10^{-6},~1.2295005 \\times 10^{-6},~1.4232462 \\times 10^{-6},~1.6475224 \\times 10^{-6},~1.9071403 \\times 10^{-6},~2.2076689 \\times 10^{-6},~2.5555551 \\times 10^{-6},~2.9582614 \\times 10^{-6},~3.4244265 \\times 10^{-6},~3.9640503 \\times 10^{-6},~4.5887084 \\times 10^{-6},~5.3118006 \\times 10^{-6},~6.1488383 \\times 10^{-6},~7.1177769 \\times 10^{-6},~8.2394017 \\times 10^{-6},~9.537773 \\times 10^{-6},~1.1040743 \\times 10^{-5},~1.2780551 \\times 10^{-5},~1.479452 \\times 10^{-5},~1.7125852 \\times 10^{-5},~1.9824557 \\times 10^{-5},~2.2948526 \\times 10^{-5},~2.6564773 \\times 10^{-5},~3.075087 \\times 10^{-5},~3.5596616 \\times 10^{-5},~4.1205959 \\times 10^{-5},~4.7699225 \\times 10^{-5},~5.5215706 \\times 10^{-5},~6.391664 \\times 10^{-5},~7.3988673 \\times 10^{-5},~8.5647865 \\times 10^{-5},~9.9144322 \\times 10^{-5},~0.00011476756,~0.00013285272,~0.00015378776,~0.00017802175,~0.00020607455,~0.00023854794,~0.00027613851,~0.00031965263,~0.00037002373,~0.00042833236,~0.0004958293,~0.00057396247,~0.00066440792,~0.00076910583,~0.00089030212,~0.0010305966,~0.0011929988,~0.0013809925,~0.0015986104,~0.0018505206,~0.0021421271,~0.0024796851,~0.0028704358,~0.0033227613,~0.0038463646,~0.0044524777,~0.0051541025,~0.00596629,~0.0069064626,~0.0079947883,~0.0092546132,~0.010712962,~0.012401119,~0.014355297,~0.016617416,~0.019236001,~0.022267225,~0.025776111,~0.029837931,~0.034539815,~0.039982626,~0.046283119,~0.053576448,~0.062019066,~0.071792079,~0.08310513,~0.0962009,~0.11136031,~0.12890856,~0.14922207,~0.17273659,~0.19995656,~0.23146587,~0.26794044,~0.3101627,~0.35903838,~0.41561592,~0.481109,~0.55692253,~0.64468281,~0.74627242,~0.8638706,~1] \\; \\mathrm{TeV}$"
      ],
      "text/plain": [
       "<Quantity [5.11000000e-07, 5.91523774e-07, 6.84736547e-07, 7.92637860e-07,\n",
       "           9.17542345e-07, 1.06212938e-06, 1.22950054e-06, 1.42324619e-06,\n",
       "           1.64752242e-06, 1.90714027e-06, 2.20766890e-06, 2.55555507e-06,\n",
       "           2.95826141e-06, 3.42442653e-06, 3.96405030e-06, 4.58870840e-06,\n",
       "           5.31180061e-06, 6.14883825e-06, 7.11777692e-06, 8.23940170e-06,\n",
       "           9.53777298e-06, 1.10407426e-05, 1.27805513e-05, 1.47945205e-05,\n",
       "           1.71258524e-05, 1.98245574e-05, 2.29485265e-05, 2.65647730e-05,\n",
       "           3.07508704e-05, 3.55966163e-05, 4.12059585e-05, 4.76992253e-05,\n",
       "           5.52157060e-05, 6.39166395e-05, 7.39886729e-05, 8.56478650e-05,\n",
       "           9.91443216e-05, 1.14767560e-04, 1.32852721e-04, 1.53787755e-04,\n",
       "           1.78021748e-04, 2.06074553e-04, 2.38547940e-04, 2.76138508e-04,\n",
       "           3.19652627e-04, 3.70023734e-04, 4.28332360e-04, 4.95829303e-04,\n",
       "           5.73962468e-04, 6.64407916e-04, 7.69105828e-04, 8.90302117e-04,\n",
       "           1.03059661e-03, 1.19299882e-03, 1.38099249e-03, 1.59861036e-03,\n",
       "           1.85052061e-03, 2.14212707e-03, 2.47968511e-03, 2.87043580e-03,\n",
       "           3.32276129e-03, 3.84636458e-03, 4.45247767e-03, 5.15410254e-03,\n",
       "           5.96628999e-03, 6.90646257e-03, 7.99478827e-03, 9.25461317e-03,\n",
       "           1.07129623e-02, 1.24011191e-02, 1.43552970e-02, 1.66174158e-02,\n",
       "           1.92360010e-02, 2.22672249e-02, 2.57761113e-02, 2.98379308e-02,\n",
       "           3.45398150e-02, 3.99826257e-02, 4.62831187e-02, 5.35764482e-02,\n",
       "           6.20190662e-02, 7.17920785e-02, 8.31051296e-02, 9.62009001e-02,\n",
       "           1.11360312e-01, 1.28908556e-01, 1.49222066e-01, 1.72736594e-01,\n",
       "           1.99956559e-01, 2.31465868e-01, 2.67940438e-01, 3.10162699e-01,\n",
       "           3.59038377e-01, 4.15615921e-01, 4.81108998e-01, 5.56922525e-01,\n",
       "           6.44682807e-01, 7.46272420e-01, 8.63870604e-01, 1.00000000e+00] TeV>"
      ]
     },
     "execution_count": 20,
     "metadata": {},
     "output_type": "execute_result"
    }
   ],
   "source": [
    "energies1"
   ]
  },
  {
   "cell_type": "markdown",
   "metadata": {},
   "source": [
    "Let's make a plot of what we have:"
   ]
  },
  {
   "cell_type": "code",
   "execution_count": 21,
   "metadata": {},
   "outputs": [
    {
     "data": {
      "text/plain": [
       "[<matplotlib.lines.Line2D at 0x7ff84ebf4fd0>]"
      ]
     },
     "execution_count": 21,
     "metadata": {},
     "output_type": "execute_result"
    },
    {
     "data": {
      "image/png": "[encoded data removed]",
      "text/plain": [
       "<Figure size 432x288 with 1 Axes>"
      ]
     },
     "metadata": {
      "needs_background": "light"
     },
     "output_type": "display_data"
    }
   ],
   "source": [
    "plt.loglog(energies1, model1(energies1))"
   ]
  },
  {
   "cell_type": "markdown",
   "metadata": {},
   "source": [
    "Now we need a simple power law, starting at E_2 and going up to E_max. But it is important that the two model parts match at E_2, i.e. the value of model1 at E_2 is the same as the value of model2 at E_2. We will achieve this by using E_2 as reference energy and the value of model1 at E_2 as amplitude."
   ]
  },
  {
   "cell_type": "code",
   "execution_count": 26,
   "metadata": {},
   "outputs": [],
   "source": [
    "model2 = PowerLaw(amplitude = model1(E_2), e_0 = E_2, alpha = p_3)"
   ]
  },
  {
   "cell_type": "markdown",
   "metadata": {},
   "source": [
    "This part of the model is defined from E_2 to E_max. Let's define a second energy range:"
   ]
  },
  {
   "cell_type": "code",
   "execution_count": 27,
   "metadata": {},
   "outputs": [],
   "source": [
    "energies2 = np.logspace(np.log10(E_2.to(u.TeV).value), np.log10(E_max.to(u.TeV).value), 100) *u.TeV"
   ]
  },
  {
   "cell_type": "code",
   "execution_count": 28,
   "metadata": {},
   "outputs": [
    {
     "data": {
      "text/latex": [
       "$[1,~1.0722672,~1.149757,~1.2328467,~1.3219411,~1.4174742,~1.5199111,~1.6297508,~1.7475284,~1.8738174,~2.009233,~2.1544347,~2.3101297,~2.4770764,~2.6560878,~2.8480359,~3.0538555,~3.2745492,~3.5111917,~3.7649358,~4.0370173,~4.3287613,~4.6415888,~4.9770236,~5.3366992,~5.7223677,~6.1359073,~6.5793322,~7.0548023,~7.5646333,~8.1113083,~8.69749,~9.3260335,~10,~10.722672,~11.49757,~12.328467,~13.219411,~14.174742,~15.199111,~16.297508,~17.475284,~18.738174,~20.09233,~21.544347,~23.101297,~24.770764,~26.560878,~28.480359,~30.538555,~32.745492,~35.111917,~37.649358,~40.370173,~43.287613,~46.415888,~49.770236,~53.366992,~57.223677,~61.359073,~65.793322,~70.548023,~75.646333,~81.113083,~86.9749,~93.260335,~100,~107.22672,~114.9757,~123.28467,~132.19411,~141.74742,~151.99111,~162.97508,~174.75284,~187.38174,~200.9233,~215.44347,~231.01297,~247.70764,~265.60878,~284.80359,~305.38555,~327.45492,~351.11917,~376.49358,~403.70173,~432.87613,~464.15888,~497.70236,~533.66992,~572.23677,~613.59073,~657.93322,~705.48023,~756.46333,~811.13083,~869.749,~932.60335,~1000] \\; \\mathrm{TeV}$"
      ],
      "text/plain": [
       "<Quantity [   1.        ,    1.07226722,    1.149757  ,    1.23284674,\n",
       "              1.32194115,    1.41747416,    1.51991108,    1.62975083,\n",
       "              1.7475284 ,    1.87381742,    2.009233  ,    2.15443469,\n",
       "              2.3101297 ,    2.47707636,    2.65608778,    2.84803587,\n",
       "              3.05385551,    3.27454916,    3.51119173,    3.76493581,\n",
       "              4.03701726,    4.32876128,    4.64158883,    4.97702356,\n",
       "              5.33669923,    5.72236766,    6.13590727,    6.57933225,\n",
       "              7.05480231,    7.56463328,    8.11130831,    8.69749003,\n",
       "              9.32603347,   10.        ,   10.72267222,   11.49756995,\n",
       "             12.32846739,   13.21941148,   14.17474163,   15.19911083,\n",
       "             16.29750835,   17.475284  ,   18.73817423,   20.09233003,\n",
       "             21.5443469 ,   23.101297  ,   24.77076356,   26.56087783,\n",
       "             28.48035868,   30.53855509,   32.74549163,   35.11191734,\n",
       "             37.64935807,   40.37017259,   43.28761281,   46.41588834,\n",
       "             49.77023564,   53.36699231,   57.22367659,   61.35907273,\n",
       "             65.79332247,   70.54802311,   75.64633276,   81.11308308,\n",
       "             86.97490026,   93.26033469,  100.        ,  107.2267222 ,\n",
       "            114.97569954,  123.28467394,  132.19411485,  141.74741629,\n",
       "            151.9911083 ,  162.97508346,  174.75284   ,  187.38174229,\n",
       "            200.92330026,  215.443469  ,  231.01297001,  247.7076356 ,\n",
       "            265.60877829,  284.80358684,  305.38555088,  327.45491629,\n",
       "            351.11917342,  376.49358068,  403.70172586,  432.87612811,\n",
       "            464.15888336,  497.70235643,  533.66992312,  572.23676594,\n",
       "            613.59072734,  657.93322466,  705.48023107,  756.46332755,\n",
       "            811.13083079,  869.74900262,  932.60334688, 1000.        ] TeV>"
      ]
     },
     "execution_count": 28,
     "metadata": {},
     "output_type": "execute_result"
    }
   ],
   "source": [
    "energies2"
   ]
  },
  {
   "cell_type": "markdown",
   "metadata": {},
   "source": [
    "Now we make a plot of both components to see if all works well."
   ]
  },
  {
   "cell_type": "code",
   "execution_count": 30,
   "metadata": {},
   "outputs": [
    {
     "data": {
      "image/png": "[encoded data removed]",
      "text/plain": [
       "<Figure size 432x288 with 1 Axes>"
      ]
     },
     "metadata": {
      "needs_background": "light"
     },
     "output_type": "display_data"
    }
   ],
   "source": [
    "plt.loglog(energies1, model1(energies1), label = 'model 1')\n",
    "plt.loglog(energies2, model2(energies2), label = 'model 2')\n",
    "\n",
    "plt.legend()\n",
    "\n",
    "plt.grid()"
   ]
  },
  {
   "cell_type": "markdown",
   "metadata": {},
   "source": [
    "Good, this worked. Now we will create two arrays, one for the energies and one for corresponding particle numbers. We achieve this by joining the two arrays we already have. But the last value of model1 and the first value of model2 are exactly the same, we do not want this value twice in our new array. So we start the second part at the second entry which is achieved with [1:] (One means we start with the second entry, the first entry is number 0. No value after the colon means that we go all the way to the end.)"
   ]
  },
  {
   "cell_type": "code",
   "execution_count": 43,
   "metadata": {},
   "outputs": [],
   "source": [
    "energies = np.hstack([energies1, energies2[1:]])\n",
    "values = np.hstack([model1(energies1), model2(energies2[1:])])"
   ]
  },
  {
   "cell_type": "markdown",
   "metadata": {},
   "source": [
    "Let's plot again to see if this worked:"
   ]
  },
  {
   "cell_type": "code",
   "execution_count": 44,
   "metadata": {},
   "outputs": [
    {
     "data": {
      "text/plain": [
       "[<matplotlib.lines.Line2D at 0x7ff84f720450>]"
      ]
     },
     "execution_count": 44,
     "metadata": {},
     "output_type": "execute_result"
    },
    {
     "data": {
      "image/png": "[encoded data removed]",
      "text/plain": [
       "<Figure size 432x288 with 1 Axes>"
      ]
     },
     "metadata": {
      "needs_background": "light"
     },
     "output_type": "display_data"
    }
   ],
   "source": [
    "plt.loglog(energies, values)"
   ]
  },
  {
   "cell_type": "markdown",
   "metadata": {},
   "source": [
    "Finally we create a TableModel with the values we have."
   ]
  },
  {
   "cell_type": "code",
   "execution_count": 45,
   "metadata": {},
   "outputs": [],
   "source": [
    "model = TableModel(energies, values)"
   ]
  },
  {
   "cell_type": "markdown",
   "metadata": {},
   "source": [
    "Let's plot again, just to be sure:"
   ]
  },
  {
   "cell_type": "code",
   "execution_count": 47,
   "metadata": {},
   "outputs": [
    {
     "data": {
      "text/plain": [
       "[<matplotlib.lines.Line2D at 0x7ff84fa3f450>]"
      ]
     },
     "execution_count": 47,
     "metadata": {},
     "output_type": "execute_result"
    },
    {
     "data": {
      "image/png": "[encoded data removed]",
      "text/plain": [
       "<Figure size 432x288 with 1 Axes>"
      ]
     },
     "metadata": {
      "needs_background": "light"
     },
     "output_type": "display_data"
    }
   ],
   "source": [
    "plt.loglog(energies, model(energies))"
   ]
  },
  {
   "cell_type": "markdown",
   "metadata": {},
   "source": [
    "Good. Now we can use this model as any other model. Do not forget to set the total energy."
   ]
  },
  {
   "cell_type": "code",
   "execution_count": 49,
   "metadata": {},
   "outputs": [],
   "source": [
    "sync = Synchrotron(model)\n",
    "\n",
    "sync.set_We(1e49*u.erg)"
   ]
  },
  {
   "cell_type": "code",
   "execution_count": 54,
   "metadata": {},
   "outputs": [
    {
     "data": {
      "text/plain": [
       "(1e+30, 1e+35)"
      ]
     },
     "execution_count": 54,
     "metadata": {},
     "output_type": "execute_result"
    },
    {
     "data": {
      "image/png": "[encoded data removed]",
      "text/plain": [
       "<Figure size 432x288 with 1 Axes>"
      ]
     },
     "metadata": {
      "needs_background": "light"
     },
     "output_type": "display_data"
    }
   ],
   "source": [
    "photon_energies = np.logspace(-18, 2, 200) * u.TeV\n",
    "\n",
    "plt.loglog(photon_energies, sync.sed(photon_energies, distance = 0*u.kpc))\n",
    "\n",
    "plt.ylim(1e30, 1e35)"
   ]
  },
  {
   "cell_type": "markdown",
   "metadata": {},
   "source": [
    "## Instructions\n",
    "\n",
    "Do not copy everything from this notebook! Copy only the parts you need to build the final model. Make sure that you use the correct parameters at the beginning. Use the constructed model in your modeling of the SED of N 157B."
   ]
  },
  {
   "cell_type": "code",
   "execution_count": null,
   "metadata": {},
   "outputs": [],
   "source": []
  }
 ],
 "metadata": {
  "kernelspec": {
   "display_name": "Python 3",
   "language": "python",
   "name": "python3"
  },
  "language_info": {
   "codemirror_mode": {
    "name": "ipython",
    "version": 3
   },
   "file_extension": ".py",
   "mimetype": "text/x-python",
   "name": "python",
   "nbconvert_exporter": "python",
   "pygments_lexer": "ipython3",
   "version": "3.7.6"
  }
 },
 "nbformat": 4,
 "nbformat_minor": 4
}
